{
 "cells": [
  {
   "cell_type": "markdown",
   "id": "bfdf06ca",
   "metadata": {},
   "source": [
    "### PEER GRADED ASSIGNMENT"
   ]
  },
  {
   "cell_type": "markdown",
   "id": "f1d2de34",
   "metadata": {},
   "source": [
    "##### This is a notebook for my final project "
   ]
  },
  {
   "cell_type": "code",
   "execution_count": null,
   "id": "b855d9be",
   "metadata": {},
   "outputs": [],
   "source": []
  },
  {
   "cell_type": "markdown",
   "id": "109f834c",
   "metadata": {},
   "source": [
    "#### Data science Languages are:"
   ]
  },
  {
   "cell_type": "markdown",
   "id": "17133134",
   "metadata": {},
   "source": [
    "- SQL\n",
    "- PYTHON\n",
    "- R\n",
    "- SCALA\n",
    "- JAVA\n",
    "- C/C++\n",
    "- JULIA\n",
    "- SAS"
   ]
  },
  {
   "cell_type": "code",
   "execution_count": null,
   "id": "4372aded",
   "metadata": {},
   "outputs": [],
   "source": []
  },
  {
   "cell_type": "markdown",
   "id": "671ff2d5",
   "metadata": {},
   "source": [
    "##### Data science libraries are:\n",
    "\n",
    "\n",
    "- pandas\n",
    "- numpy\n",
    "- matplotlib\n",
    "- seaborn\n",
    "- scikit-learn\n",
    "- TensorFlow\n",
    "- Keras\n",
    "- PyTorch\n",
    "- StatsModels\n",
    "- SciPy\n",
    "- Plotly\n",
    "- NLTK\n",
    "- SpaCy\n",
    "- OpenCV\n",
    "- LightGBM\n",
    "- XGBoost\n",
    "- CatBoost\n",
    "- Dask\n",
    "- Scrapy\n",
    "\n"
   ]
  },
  {
   "cell_type": "code",
   "execution_count": null,
   "id": "02084ea5",
   "metadata": {},
   "outputs": [],
   "source": []
  },
  {
   "cell_type": "markdown",
   "id": "a57f77fb",
   "metadata": {},
   "source": [
    "## Data science tools are:\n",
    "\n",
    "\n",
    "- Jupyter Notebook\n",
    "- RStudio\n",
    "- Anaconda\n",
    "- Apache Hadoop\n",
    "- Apache Spark\n",
    "- Tableau\n",
    "- Power BI\n",
    "- KNIME\n",
    "- RapidMiner\n",
    "- Databricks\n",
    "- Google Colab\n",
    "- Microsoft Azure Machine Learning\n",
    "- IBM Watson Studio\n",
    "- AWS SageMaker\n",
    "- TensorFlow Extended (TFX)\n",
    "- MATLAB\n",
    "- GitHub\n",
    "- Docker\n"
   ]
  },
  {
   "cell_type": "markdown",
   "id": "78ec3898",
   "metadata": {},
   "source": [
    "#### ARITHMETIC EXPRESSIONS"
   ]
  },
  {
   "cell_type": "code",
   "execution_count": 3,
   "id": "91879e17",
   "metadata": {},
   "outputs": [
    {
     "data": {
      "text/plain": [
       "20"
      ]
     },
     "execution_count": 3,
     "metadata": {},
     "output_type": "execute_result"
    }
   ],
   "source": [
    "(3*4) + 8"
   ]
  },
  {
   "cell_type": "code",
   "execution_count": 4,
   "id": "62a09fcd",
   "metadata": {},
   "outputs": [
    {
     "name": "stdout",
     "output_type": "stream",
     "text": [
      "2.0\n"
     ]
    }
   ],
   "source": [
    "minutes = 120\n",
    "\n",
    "\n",
    "hours =  minutes/ 60\n",
    "\n",
    " \n",
    "print(hours)\n"
   ]
  },
  {
   "cell_type": "code",
   "execution_count": null,
   "id": "6a75e219",
   "metadata": {},
   "outputs": [],
   "source": []
  },
  {
   "cell_type": "code",
   "execution_count": null,
   "id": "c7e53d6c",
   "metadata": {},
   "outputs": [],
   "source": []
  },
  {
   "cell_type": "code",
   "execution_count": null,
   "id": "ac10d64e",
   "metadata": {},
   "outputs": [],
   "source": []
  },
  {
   "cell_type": "code",
   "execution_count": null,
   "id": "f0a8d23d",
   "metadata": {},
   "outputs": [],
   "source": []
  }
 ],
 "metadata": {
  "kernelspec": {
   "display_name": "Python 3 (ipykernel)",
   "language": "python",
   "name": "python3"
  },
  "language_info": {
   "codemirror_mode": {
    "name": "ipython",
    "version": 3
   },
   "file_extension": ".py",
   "mimetype": "text/x-python",
   "name": "python",
   "nbconvert_exporter": "python",
   "pygments_lexer": "ipython3",
   "version": "3.11.5"
  }
 },
 "nbformat": 4,
 "nbformat_minor": 5
}
